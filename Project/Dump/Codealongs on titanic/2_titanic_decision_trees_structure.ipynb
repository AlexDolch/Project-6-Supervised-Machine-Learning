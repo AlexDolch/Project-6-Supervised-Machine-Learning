{
  "cells": [
    {
      "cell_type": "code",
      "execution_count": 1,
      "metadata": {
        "colab": {
          "base_uri": "https://localhost:8080/"
        },
        "id": "aZEQ4vW621FU",
        "outputId": "5d95ff23-abb0-472c-bc58-1e63aac8b190"
      },
      "outputs": [
        {
          "name": "stdout",
          "output_type": "stream",
          "text": [
            "Requirement already satisfied: scikit-learn in c:\\users\\alexd\\desktop\\python\\python 3.10.6\\lib\\site-packages (1.2.0)"
          ]
        },
        {
          "name": "stderr",
          "output_type": "stream",
          "text": [
            "ERROR: Could not install packages due to an OSError: [WinError 5] Zugriff verweigert: 'C:\\\\Users\\\\AlexD\\\\Desktop\\\\Python\\\\Python 3.10.6\\\\Lib\\\\site-packages\\\\~klearn\\\\.libs\\\\msvcp140.dll'\n",
            "Consider using the `--user` option or check the permissions.\n",
            "\n"
          ]
        },
        {
          "name": "stdout",
          "output_type": "stream",
          "text": [
            "\n",
            "Collecting scikit-learn\n",
            "  Downloading scikit_learn-1.2.1-cp310-cp310-win_amd64.whl (8.3 MB)\n",
            "     ---------------------------------------- 8.3/8.3 MB 5.9 MB/s eta 0:00:00\n",
            "Requirement already satisfied: scipy>=1.3.2 in c:\\users\\alexd\\desktop\\python\\python 3.10.6\\lib\\site-packages (from scikit-learn) (1.10.0)\n",
            "Requirement already satisfied: threadpoolctl>=2.0.0 in c:\\users\\alexd\\desktop\\python\\python 3.10.6\\lib\\site-packages (from scikit-learn) (3.1.0)\n",
            "Requirement already satisfied: joblib>=1.1.1 in c:\\users\\alexd\\desktop\\python\\python 3.10.6\\lib\\site-packages (from scikit-learn) (1.2.0)\n",
            "Requirement already satisfied: numpy>=1.17.3 in c:\\users\\alexd\\desktop\\python\\python 3.10.6\\lib\\site-packages (from scikit-learn) (1.23.5)\n",
            "Installing collected packages: scikit-learn\n",
            "  Attempting uninstall: scikit-learn\n",
            "    Found existing installation: scikit-learn 1.2.0\n",
            "    Uninstalling scikit-learn-1.2.0:\n",
            "      Successfully uninstalled scikit-learn-1.2.0\n"
          ]
        }
      ],
      "source": [
        "# this needs to be run for each new runtime\n",
        "# because colab has scikit-learn 1.0.2 pre-installed \n",
        "# and we need newer version (1.2.0 and higher)\n",
        "# to use .set_output() method\n",
        "!pip install scikit-learn --upgrade\n",
        "\n",
        "# if you plan on running the whole notebook again during the same runtime\n",
        "# you can comment the line above"
      ]
    },
    {
      "cell_type": "markdown",
      "metadata": {
        "id": "MTsXzsdsIxay"
      },
      "source": [
        "# Titanic 2: Decision Trees\n",
        "\n",
        "**Dataset variables:**\n",
        "\n",
        "*   survival -->\tWhether a passenger survived or not\n",
        "*   pclass -->\tTicket class (1 = 1st, 2 = 2nd, 3 = 3rd)\n",
        "*   sex -->\tSex\n",
        "*   Age -->\tAge in years\n",
        "*   sibsp -->\t# of siblings / spouses aboard the Titanic\n",
        "*   parch -->\t# of parents / children aboard the Titanic\n",
        "*   ticket -->\tTicket number\n",
        "*   fare -->\tPassenger fare\n",
        "*   cabin -->\tCabin number\n",
        "*   embarked -->\tPort of Embarkation (C = Cherbourg, Q = Queenstown, S = Southampton)"
      ]
    },
    {
      "cell_type": "markdown",
      "metadata": {
        "id": "DIZAAfhfI2xN"
      },
      "source": [
        "## 1. Read the data"
      ]
    },
    {
      "cell_type": "code",
      "execution_count": 2,
      "metadata": {
        "colab": {
          "base_uri": "https://localhost:8080/",
          "height": 143
        },
        "id": "MoFCAd9EI2GJ",
        "outputId": "d2609eb0-afe6-4b05-dea1-1a60a3a6ce76"
      },
      "outputs": [
        {
          "data": {
            "text/html": [
              "<div>\n",
              "<style scoped>\n",
              "    .dataframe tbody tr th:only-of-type {\n",
              "        vertical-align: middle;\n",
              "    }\n",
              "\n",
              "    .dataframe tbody tr th {\n",
              "        vertical-align: top;\n",
              "    }\n",
              "\n",
              "    .dataframe thead th {\n",
              "        text-align: right;\n",
              "    }\n",
              "</style>\n",
              "<table border=\"1\" class=\"dataframe\">\n",
              "  <thead>\n",
              "    <tr style=\"text-align: right;\">\n",
              "      <th></th>\n",
              "      <th>PassengerId</th>\n",
              "      <th>Survived</th>\n",
              "      <th>Pclass</th>\n",
              "      <th>Name</th>\n",
              "      <th>Sex</th>\n",
              "      <th>Age</th>\n",
              "      <th>SibSp</th>\n",
              "      <th>Parch</th>\n",
              "      <th>Ticket</th>\n",
              "      <th>Fare</th>\n",
              "      <th>Cabin</th>\n",
              "      <th>Embarked</th>\n",
              "    </tr>\n",
              "  </thead>\n",
              "  <tbody>\n",
              "    <tr>\n",
              "      <th>0</th>\n",
              "      <td>1</td>\n",
              "      <td>0</td>\n",
              "      <td>3</td>\n",
              "      <td>Braund, Mr. Owen Harris</td>\n",
              "      <td>male</td>\n",
              "      <td>22.0</td>\n",
              "      <td>1</td>\n",
              "      <td>0</td>\n",
              "      <td>A/5 21171</td>\n",
              "      <td>7.2500</td>\n",
              "      <td>NaN</td>\n",
              "      <td>S</td>\n",
              "    </tr>\n",
              "    <tr>\n",
              "      <th>1</th>\n",
              "      <td>2</td>\n",
              "      <td>1</td>\n",
              "      <td>1</td>\n",
              "      <td>Cumings, Mrs. John Bradley (Florence Briggs Th...</td>\n",
              "      <td>female</td>\n",
              "      <td>38.0</td>\n",
              "      <td>1</td>\n",
              "      <td>0</td>\n",
              "      <td>PC 17599</td>\n",
              "      <td>71.2833</td>\n",
              "      <td>C85</td>\n",
              "      <td>C</td>\n",
              "    </tr>\n",
              "    <tr>\n",
              "      <th>2</th>\n",
              "      <td>3</td>\n",
              "      <td>1</td>\n",
              "      <td>3</td>\n",
              "      <td>Heikkinen, Miss. Laina</td>\n",
              "      <td>female</td>\n",
              "      <td>26.0</td>\n",
              "      <td>0</td>\n",
              "      <td>0</td>\n",
              "      <td>STON/O2. 3101282</td>\n",
              "      <td>7.9250</td>\n",
              "      <td>NaN</td>\n",
              "      <td>S</td>\n",
              "    </tr>\n",
              "  </tbody>\n",
              "</table>\n",
              "</div>"
            ],
            "text/plain": [
              "   PassengerId  Survived  Pclass  \\\n",
              "0            1         0       3   \n",
              "1            2         1       1   \n",
              "2            3         1       3   \n",
              "\n",
              "                                                Name     Sex   Age  SibSp  \\\n",
              "0                            Braund, Mr. Owen Harris    male  22.0      1   \n",
              "1  Cumings, Mrs. John Bradley (Florence Briggs Th...  female  38.0      1   \n",
              "2                             Heikkinen, Miss. Laina  female  26.0      0   \n",
              "\n",
              "   Parch            Ticket     Fare Cabin Embarked  \n",
              "0      0         A/5 21171   7.2500   NaN        S  \n",
              "1      0          PC 17599  71.2833   C85        C  \n",
              "2      0  STON/O2. 3101282   7.9250   NaN        S  "
            ]
          },
          "execution_count": 2,
          "metadata": {},
          "output_type": "execute_result"
        }
      ],
      "source": [
        "import pandas as pd\n",
        "\n",
        "url = \"https://drive.google.com/file/d/1g3uhw_y3tboRm2eYDPfUzXXsw8IOYDCy/view?usp=sharing\"\n",
        "path = 'https://drive.google.com/uc?export=download&id='+url.split('/')[-2]\n",
        "\n",
        "\n",
        "data = pd.read_csv(path)\n",
        "data.head(3)"
      ]
    },
    {
      "cell_type": "markdown",
      "metadata": {
        "id": "d-LUectTI9pc"
      },
      "source": [
        "## 2. Define X and y"
      ]
    },
    {
      "cell_type": "code",
      "execution_count": 3,
      "metadata": {
        "id": "Z5pIsMezJScJ"
      },
      "outputs": [],
      "source": [
        "X = data.drop(columns=[\"PassengerId\", \"Name\", \"Ticket\"])\n",
        "y = X.pop(\"Survived\")"
      ]
    },
    {
      "cell_type": "markdown",
      "metadata": {
        "id": "M3mzFlGYJkem"
      },
      "source": [
        "## 3. Data Splitting (Train - Test)"
      ]
    },
    {
      "cell_type": "code",
      "execution_count": 4,
      "metadata": {
        "id": "qIpYym3EJnm-"
      },
      "outputs": [],
      "source": [
        "from sklearn.model_selection import train_test_split\n",
        "\n",
        "X_train, X_test, y_train, y_test = train_test_split(X, y, test_size=0.2, random_state=31416)"
      ]
    },
    {
      "cell_type": "markdown",
      "metadata": {
        "id": "uK2kv-V0UkcP"
      },
      "source": [
        "## 4. Implement a Decision Tree\n",
        "\n",
        "A Decision Tree is one of the simplest Machine Learning models. To implement it, we need to first:\n",
        "\n",
        "- Import it from the appropriate submodule of Scikit-Learn.\n",
        "- Initialize it.\n",
        "- Fit it."
      ]
    },
    {
      "cell_type": "code",
      "execution_count": 5,
      "metadata": {
        "colab": {
          "base_uri": "https://localhost:8080/",
          "height": 353
        },
        "id": "z7K65vfIUkcP",
        "jupyter": {
          "outputs_hidden": true
        },
        "outputId": "5555c53a-8750-4cdf-95fc-f816085c75d1"
      },
      "outputs": [
        {
          "ename": "ValueError",
          "evalue": "could not convert string to float: 'male'",
          "output_type": "error",
          "traceback": [
            "\u001b[1;31m---------------------------------------------------------------------------\u001b[0m",
            "\u001b[1;31mValueError\u001b[0m                                Traceback (most recent call last)",
            "Cell \u001b[1;32mIn[5], line 8\u001b[0m\n\u001b[0;32m      5\u001b[0m my_tree \u001b[39m=\u001b[39m DecisionTreeClassifier()\n\u001b[0;32m      7\u001b[0m \u001b[39m# 3. fit the model to the train data\u001b[39;00m\n\u001b[1;32m----> 8\u001b[0m my_tree\u001b[39m.\u001b[39;49mfit(X\u001b[39m=\u001b[39;49mX_train, y\u001b[39m=\u001b[39;49my_train)\n",
            "File \u001b[1;32mc:\\Users\\AlexD\\Desktop\\Python\\Python 3.10.6\\lib\\site-packages\\sklearn\\tree\\_classes.py:889\u001b[0m, in \u001b[0;36mDecisionTreeClassifier.fit\u001b[1;34m(self, X, y, sample_weight, check_input)\u001b[0m\n\u001b[0;32m    859\u001b[0m \u001b[39mdef\u001b[39;00m \u001b[39mfit\u001b[39m(\u001b[39mself\u001b[39m, X, y, sample_weight\u001b[39m=\u001b[39m\u001b[39mNone\u001b[39;00m, check_input\u001b[39m=\u001b[39m\u001b[39mTrue\u001b[39;00m):\n\u001b[0;32m    860\u001b[0m     \u001b[39m\"\"\"Build a decision tree classifier from the training set (X, y).\u001b[39;00m\n\u001b[0;32m    861\u001b[0m \n\u001b[0;32m    862\u001b[0m \u001b[39m    Parameters\u001b[39;00m\n\u001b[1;32m   (...)\u001b[0m\n\u001b[0;32m    886\u001b[0m \u001b[39m        Fitted estimator.\u001b[39;00m\n\u001b[0;32m    887\u001b[0m \u001b[39m    \"\"\"\u001b[39;00m\n\u001b[1;32m--> 889\u001b[0m     \u001b[39msuper\u001b[39;49m()\u001b[39m.\u001b[39;49mfit(\n\u001b[0;32m    890\u001b[0m         X,\n\u001b[0;32m    891\u001b[0m         y,\n\u001b[0;32m    892\u001b[0m         sample_weight\u001b[39m=\u001b[39;49msample_weight,\n\u001b[0;32m    893\u001b[0m         check_input\u001b[39m=\u001b[39;49mcheck_input,\n\u001b[0;32m    894\u001b[0m     )\n\u001b[0;32m    895\u001b[0m     \u001b[39mreturn\u001b[39;00m \u001b[39mself\u001b[39m\n",
            "File \u001b[1;32mc:\\Users\\AlexD\\Desktop\\Python\\Python 3.10.6\\lib\\site-packages\\sklearn\\tree\\_classes.py:186\u001b[0m, in \u001b[0;36mBaseDecisionTree.fit\u001b[1;34m(self, X, y, sample_weight, check_input)\u001b[0m\n\u001b[0;32m    184\u001b[0m check_X_params \u001b[39m=\u001b[39m \u001b[39mdict\u001b[39m(dtype\u001b[39m=\u001b[39mDTYPE, accept_sparse\u001b[39m=\u001b[39m\u001b[39m\"\u001b[39m\u001b[39mcsc\u001b[39m\u001b[39m\"\u001b[39m)\n\u001b[0;32m    185\u001b[0m check_y_params \u001b[39m=\u001b[39m \u001b[39mdict\u001b[39m(ensure_2d\u001b[39m=\u001b[39m\u001b[39mFalse\u001b[39;00m, dtype\u001b[39m=\u001b[39m\u001b[39mNone\u001b[39;00m)\n\u001b[1;32m--> 186\u001b[0m X, y \u001b[39m=\u001b[39m \u001b[39mself\u001b[39;49m\u001b[39m.\u001b[39;49m_validate_data(\n\u001b[0;32m    187\u001b[0m     X, y, validate_separately\u001b[39m=\u001b[39;49m(check_X_params, check_y_params)\n\u001b[0;32m    188\u001b[0m )\n\u001b[0;32m    189\u001b[0m \u001b[39mif\u001b[39;00m issparse(X):\n\u001b[0;32m    190\u001b[0m     X\u001b[39m.\u001b[39msort_indices()\n",
            "File \u001b[1;32mc:\\Users\\AlexD\\Desktop\\Python\\Python 3.10.6\\lib\\site-packages\\sklearn\\base.py:560\u001b[0m, in \u001b[0;36mBaseEstimator._validate_data\u001b[1;34m(self, X, y, reset, validate_separately, **check_params)\u001b[0m\n\u001b[0;32m    558\u001b[0m \u001b[39mif\u001b[39;00m \u001b[39m\"\u001b[39m\u001b[39mestimator\u001b[39m\u001b[39m\"\u001b[39m \u001b[39mnot\u001b[39;00m \u001b[39min\u001b[39;00m check_X_params:\n\u001b[0;32m    559\u001b[0m     check_X_params \u001b[39m=\u001b[39m {\u001b[39m*\u001b[39m\u001b[39m*\u001b[39mdefault_check_params, \u001b[39m*\u001b[39m\u001b[39m*\u001b[39mcheck_X_params}\n\u001b[1;32m--> 560\u001b[0m X \u001b[39m=\u001b[39m check_array(X, input_name\u001b[39m=\u001b[39m\u001b[39m\"\u001b[39m\u001b[39mX\u001b[39m\u001b[39m\"\u001b[39m, \u001b[39m*\u001b[39m\u001b[39m*\u001b[39mcheck_X_params)\n\u001b[0;32m    561\u001b[0m \u001b[39mif\u001b[39;00m \u001b[39m\"\u001b[39m\u001b[39mestimator\u001b[39m\u001b[39m\"\u001b[39m \u001b[39mnot\u001b[39;00m \u001b[39min\u001b[39;00m check_y_params:\n\u001b[0;32m    562\u001b[0m     check_y_params \u001b[39m=\u001b[39m {\u001b[39m*\u001b[39m\u001b[39m*\u001b[39mdefault_check_params, \u001b[39m*\u001b[39m\u001b[39m*\u001b[39mcheck_y_params}\n",
            "File \u001b[1;32mc:\\Users\\AlexD\\Desktop\\Python\\Python 3.10.6\\lib\\site-packages\\sklearn\\utils\\validation.py:879\u001b[0m, in \u001b[0;36mcheck_array\u001b[1;34m(array, accept_sparse, accept_large_sparse, dtype, order, copy, force_all_finite, ensure_2d, allow_nd, ensure_min_samples, ensure_min_features, estimator, input_name)\u001b[0m\n\u001b[0;32m    877\u001b[0m         array \u001b[39m=\u001b[39m xp\u001b[39m.\u001b[39mastype(array, dtype, copy\u001b[39m=\u001b[39m\u001b[39mFalse\u001b[39;00m)\n\u001b[0;32m    878\u001b[0m     \u001b[39melse\u001b[39;00m:\n\u001b[1;32m--> 879\u001b[0m         array \u001b[39m=\u001b[39m _asarray_with_order(array, order\u001b[39m=\u001b[39;49morder, dtype\u001b[39m=\u001b[39;49mdtype, xp\u001b[39m=\u001b[39;49mxp)\n\u001b[0;32m    880\u001b[0m \u001b[39mexcept\u001b[39;00m ComplexWarning \u001b[39mas\u001b[39;00m complex_warning:\n\u001b[0;32m    881\u001b[0m     \u001b[39mraise\u001b[39;00m \u001b[39mValueError\u001b[39;00m(\n\u001b[0;32m    882\u001b[0m         \u001b[39m\"\u001b[39m\u001b[39mComplex data not supported\u001b[39m\u001b[39m\\n\u001b[39;00m\u001b[39m{}\u001b[39;00m\u001b[39m\\n\u001b[39;00m\u001b[39m\"\u001b[39m\u001b[39m.\u001b[39mformat(array)\n\u001b[0;32m    883\u001b[0m     ) \u001b[39mfrom\u001b[39;00m \u001b[39mcomplex_warning\u001b[39;00m\n",
            "File \u001b[1;32mc:\\Users\\AlexD\\Desktop\\Python\\Python 3.10.6\\lib\\site-packages\\sklearn\\utils\\_array_api.py:185\u001b[0m, in \u001b[0;36m_asarray_with_order\u001b[1;34m(array, dtype, order, copy, xp)\u001b[0m\n\u001b[0;32m    182\u001b[0m     xp, _ \u001b[39m=\u001b[39m get_namespace(array)\n\u001b[0;32m    183\u001b[0m \u001b[39mif\u001b[39;00m xp\u001b[39m.\u001b[39m\u001b[39m__name__\u001b[39m \u001b[39min\u001b[39;00m {\u001b[39m\"\u001b[39m\u001b[39mnumpy\u001b[39m\u001b[39m\"\u001b[39m, \u001b[39m\"\u001b[39m\u001b[39mnumpy.array_api\u001b[39m\u001b[39m\"\u001b[39m}:\n\u001b[0;32m    184\u001b[0m     \u001b[39m# Use NumPy API to support order\u001b[39;00m\n\u001b[1;32m--> 185\u001b[0m     array \u001b[39m=\u001b[39m numpy\u001b[39m.\u001b[39;49masarray(array, order\u001b[39m=\u001b[39;49morder, dtype\u001b[39m=\u001b[39;49mdtype)\n\u001b[0;32m    186\u001b[0m     \u001b[39mreturn\u001b[39;00m xp\u001b[39m.\u001b[39masarray(array, copy\u001b[39m=\u001b[39mcopy)\n\u001b[0;32m    187\u001b[0m \u001b[39melse\u001b[39;00m:\n",
            "File \u001b[1;32mc:\\Users\\AlexD\\Desktop\\Python\\Python 3.10.6\\lib\\site-packages\\pandas\\core\\generic.py:2070\u001b[0m, in \u001b[0;36mNDFrame.__array__\u001b[1;34m(self, dtype)\u001b[0m\n\u001b[0;32m   2069\u001b[0m \u001b[39mdef\u001b[39;00m \u001b[39m__array__\u001b[39m(\u001b[39mself\u001b[39m, dtype: npt\u001b[39m.\u001b[39mDTypeLike \u001b[39m|\u001b[39m \u001b[39mNone\u001b[39;00m \u001b[39m=\u001b[39m \u001b[39mNone\u001b[39;00m) \u001b[39m-\u001b[39m\u001b[39m>\u001b[39m np\u001b[39m.\u001b[39mndarray:\n\u001b[1;32m-> 2070\u001b[0m     \u001b[39mreturn\u001b[39;00m np\u001b[39m.\u001b[39;49masarray(\u001b[39mself\u001b[39;49m\u001b[39m.\u001b[39;49m_values, dtype\u001b[39m=\u001b[39;49mdtype)\n",
            "\u001b[1;31mValueError\u001b[0m: could not convert string to float: 'male'"
          ]
        }
      ],
      "source": [
        "# 1. import the model\n",
        "from sklearn.tree import DecisionTreeClassifier\n",
        "\n",
        "# 2. initialize the model (optional: give some parameters)\n",
        "my_tree = DecisionTreeClassifier()\n",
        "\n",
        "# 3. fit the model to the train data\n",
        "my_tree.fit(X=X_train, y=y_train)"
      ]
    },
    {
      "cell_type": "markdown",
      "metadata": {
        "id": "HgoqpN83qxMC"
      },
      "source": [
        "**We got an error**: the model cannot deal with categorical features. We will soon learn to encode them as numbers, but our approach should always be to quickly complete the task  first, and iterate to improve it later. This is the reason why we will simply start by dropping the categorical features."
      ]
    },
    {
      "cell_type": "markdown",
      "metadata": {
        "id": "OSkKqVIFUkcP"
      },
      "source": [
        "## 5. Select only numerical features\n"
      ]
    },
    {
      "cell_type": "code",
      "execution_count": null,
      "metadata": {
        "id": "M3z8ZhUyUkcP"
      },
      "outputs": [],
      "source": [
        "# another option: X_num = X.drop(columns=[\"Sex\", \"Cabin\", \"Embarked\"])\n",
        "X_num = X.select_dtypes(include=\"number\")"
      ]
    },
    {
      "cell_type": "markdown",
      "metadata": {
        "id": "0kzWM35rrdsz"
      },
      "source": [
        "### 5.1. Train-test split\n",
        "\n",
        "Since we created a new dataframe without the categorical features, we need to create our test and train sets again."
      ]
    },
    {
      "cell_type": "code",
      "execution_count": null,
      "metadata": {
        "id": "IDhV3TDVUkcP"
      },
      "outputs": [],
      "source": [
        "X_num_train, X_num_test, y_train, y_test = train_test_split(X_num, y, test_size=0.2, random_state=123)"
      ]
    },
    {
      "cell_type": "markdown",
      "metadata": {
        "id": "elqKwM_erqzV"
      },
      "source": [
        "### 5.2. Implement a Decision Tree (numerical features)"
      ]
    },
    {
      "cell_type": "code",
      "execution_count": null,
      "metadata": {
        "colab": {
          "base_uri": "https://localhost:8080/",
          "height": 442
        },
        "collapsed": true,
        "id": "bXzWAT4qUkcP",
        "jupyter": {
          "outputs_hidden": true
        },
        "outputId": "4642ebac-ac63-4a3d-aeb0-4f6cfdf7ef59"
      },
      "outputs": [],
      "source": [
        "# 1. import the model\n",
        "from sklearn.tree import DecisionTreeClassifier\n",
        "\n",
        "# 2. initialize the model (optional: give some parameters)\n",
        "my_tree = DecisionTreeClassifier()\n",
        "\n",
        "# 3. fit the model to the train data\n",
        "my_tree.fit(X=X_num_train, y=y_train)"
      ]
    },
    {
      "cell_type": "code",
      "execution_count": null,
      "metadata": {
        "colab": {
          "base_uri": "https://localhost:8080/"
        },
        "id": "FGn8XBXXJF4D",
        "outputId": "0ea68667-0073-4c9f-ad61-f19678e5af91"
      },
      "outputs": [],
      "source": [
        "X_num_train.info()"
      ]
    },
    {
      "cell_type": "markdown",
      "metadata": {
        "id": "h3lYJwV0rxZM"
      },
      "source": [
        "**Another error**: the model cannot deal with missing data. Let's fix it."
      ]
    },
    {
      "cell_type": "markdown",
      "metadata": {
        "id": "jn-XyniKUkcP"
      },
      "source": [
        "## 6. Dealing with missing data\n",
        "\n",
        "We will use the `SimpleImputer()` with its default values. It will replace any missing value with the mean of the column it belongs to."
      ]
    },
    {
      "cell_type": "markdown",
      "metadata": {
        "id": "XT48QevhKWGm"
      },
      "source": [
        "Simple imputer allows these strategies:\n",
        "- mean (default),\n",
        "- median,\n",
        "- most frequent,\n",
        "- constant.\n",
        "\n",
        "For more details, look here: https://scikit-learn.org/stable/modules/generated/sklearn.impute.SimpleImputer.html"
      ]
    },
    {
      "cell_type": "code",
      "execution_count": null,
      "metadata": {
        "id": "ReRs_lCBf0f5"
      },
      "outputs": [],
      "source": [
        "from sklearn.impute import SimpleImputer"
      ]
    },
    {
      "cell_type": "markdown",
      "metadata": {
        "id": "FAKiXW7_K6-w"
      },
      "source": [
        "Follow this approach for different types of estimators:\n",
        "1. initialize,\n",
        "2. use fit on the **train** set,\n",
        "3. use transform on the **train** set,\n",
        "4. use transform on the **test** set.\n",
        "\n",
        "It is possible to combine steps 2 and 3 and use fit_transform instead."
      ]
    },
    {
      "cell_type": "code",
      "execution_count": null,
      "metadata": {
        "id": "a6KZkxN3vu5b"
      },
      "outputs": [],
      "source": [
        "# 1. initialize\n",
        "my_imputer = SimpleImputer().set_output(transform='pandas')"
      ]
    },
    {
      "cell_type": "code",
      "execution_count": null,
      "metadata": {
        "colab": {
          "base_uri": "https://localhost:8080/",
          "height": 75
        },
        "id": "uCxtbXN2LlyR",
        "outputId": "42ce92f1-41e0-4a2a-ea7c-613adabade99"
      },
      "outputs": [],
      "source": [
        "# 2. use fit on the train set\n",
        "my_imputer.fit(X_num_train)"
      ]
    },
    {
      "cell_type": "code",
      "execution_count": null,
      "metadata": {
        "id": "rkrSPNqaLstU"
      },
      "outputs": [],
      "source": [
        "# 3. use transform on the train set\n",
        "X_num_imputed_train = my_imputer.transform(X_num_train)"
      ]
    },
    {
      "cell_type": "code",
      "execution_count": null,
      "metadata": {
        "colab": {
          "base_uri": "https://localhost:8080/"
        },
        "id": "GU1jo912Mcr9",
        "outputId": "5bd21b67-8446-4121-fc79-5607c149873b"
      },
      "outputs": [],
      "source": [
        "X_num_imputed_train.isnull().sum()"
      ]
    },
    {
      "cell_type": "markdown",
      "metadata": {
        "id": "9Vl2izuYOJgb"
      },
      "source": [
        "NO DATA SNOOPING!"
      ]
    },
    {
      "cell_type": "markdown",
      "metadata": {
        "id": "7BJY1WiUPNQd"
      },
      "source": [
        "We will implement the 4th step in 7.1."
      ]
    },
    {
      "cell_type": "markdown",
      "metadata": {
        "id": "4q9NtdPWsKvY"
      },
      "source": [
        "### 6.1. Implement a Decision Tree (numerical features + missing values imputed)"
      ]
    },
    {
      "cell_type": "code",
      "execution_count": null,
      "metadata": {
        "colab": {
          "base_uri": "https://localhost:8080/",
          "height": 75
        },
        "id": "dvl7Mwa4UkcP",
        "outputId": "74e54a37-2485-4ed9-dc9c-2c5d741cd5fc"
      },
      "outputs": [],
      "source": [
        "# 1. import the model\n",
        "from sklearn.tree import DecisionTreeClassifier\n",
        "\n",
        "# 2. initialize the model (optional: give some parameters)\n",
        "my_tree = DecisionTreeClassifier()\n",
        "\n",
        "# 3. fit the model to the train data\n",
        "my_tree.fit(X = X_num_imputed_train, \n",
        "            y = y_train)"
      ]
    },
    {
      "cell_type": "markdown",
      "metadata": {
        "id": "lcrLLRlosRdx"
      },
      "source": [
        "### 6.2. Make predictions and check accuracy on the train set"
      ]
    },
    {
      "cell_type": "code",
      "execution_count": null,
      "metadata": {
        "id": "w2xRfWjxUkcP"
      },
      "outputs": [],
      "source": [
        "# make predictions\n",
        "y_pred_tree_train = my_tree.predict(X_num_imputed_train)"
      ]
    },
    {
      "cell_type": "code",
      "execution_count": null,
      "metadata": {
        "colab": {
          "base_uri": "https://localhost:8080/"
        },
        "id": "Xp2YhgcEUkcP",
        "outputId": "5d36a16c-9fbc-4821-966c-b5a85d9160c7"
      },
      "outputs": [],
      "source": [
        "# Check accuracy on the train set\n",
        "from sklearn.metrics import accuracy_score\n",
        "\n",
        "accuracy_score(y_true = y_train,\n",
        "               y_pred = y_pred_tree_train\n",
        "              )"
      ]
    },
    {
      "cell_type": "markdown",
      "metadata": {
        "id": "HykpFBKPsbyS"
      },
      "source": [
        "The model seems to work REALLY well. Suspiciously well, even. Remember that the model has been trained using the train set and we have now checked its accuracy on the very same train set. The real evaluation will come from the test set."
      ]
    },
    {
      "cell_type": "markdown",
      "metadata": {
        "id": "On80ApfGUkcP"
      },
      "source": [
        "## 7. Check accuracy for the test set\n",
        "\n",
        "Is the model able to generalize? Is it able to make predictions on data it has not \"seen\" before?"
      ]
    },
    {
      "cell_type": "markdown",
      "metadata": {
        "id": "mA8AToy9s_bs"
      },
      "source": [
        "### 7.1. Transform the test set\n",
        "\n",
        "The test set already contains only numerical features, but we still need to impute the missing values with the \"imputer\" we already created and fitted on the train set.\n",
        "\n",
        "Remember: transformers only have to be fitted to the train set. Then, they are used to transform both the train and the test set."
      ]
    },
    {
      "cell_type": "code",
      "execution_count": null,
      "metadata": {
        "id": "Qytvma1gUkcP"
      },
      "outputs": [],
      "source": [
        "# impute NaN's to test set\n",
        "X_num_imputed_test = my_imputer.transform(X_num_test)"
      ]
    },
    {
      "cell_type": "markdown",
      "metadata": {
        "id": "zoua0r_MtZt_"
      },
      "source": [
        "### 7.2. Make predictions on the test set"
      ]
    },
    {
      "cell_type": "code",
      "execution_count": null,
      "metadata": {
        "id": "6_CVdYnKUkcP"
      },
      "outputs": [],
      "source": [
        "y_pred_tree_test = my_tree.predict(X_num_imputed_test)"
      ]
    },
    {
      "cell_type": "markdown",
      "metadata": {
        "id": "yXFJAyqdtdAs"
      },
      "source": [
        "### 7.3. Check accuracy score on the test set"
      ]
    },
    {
      "cell_type": "code",
      "execution_count": null,
      "metadata": {
        "colab": {
          "base_uri": "https://localhost:8080/"
        },
        "id": "9KiaccjbUkcP",
        "outputId": "2da8c140-ca14-42a4-fa09-6a4fab40f563"
      },
      "outputs": [],
      "source": [
        "accuracy_score(y_true = y_test,\n",
        "               y_pred = y_pred_tree_test\n",
        "              )"
      ]
    },
    {
      "cell_type": "markdown",
      "metadata": {
        "id": "Dr7BOXnrue-H"
      },
      "source": [
        "This accuracy is even lower than some of our intuition-based models...\n",
        "\n",
        "Our model has a **very high variance**: the difference between train and test set is huge. We can also say that our model suffers from **overfitting**: it has captured patterns in the training set that were not present in the testing set (they were mere \"noise\").\n",
        "\n",
        "We will need to improve the model."
      ]
    },
    {
      "cell_type": "markdown",
      "metadata": {
        "id": "oZTWwKY0rJ4R"
      },
      "source": [
        "## 8. Plotting the Decision Tree\n",
        "\n",
        "A Decision Tree is a succession of rules that split the dataset based on the variables that better predict the target. This tree, with its rules, can be visualized in a diagram:"
      ]
    },
    {
      "cell_type": "code",
      "execution_count": null,
      "metadata": {
        "colab": {
          "base_uri": "https://localhost:8080/",
          "height": 1000
        },
        "id": "nJ_vtA1cq7_d",
        "outputId": "b367e858-040e-49da-cbd2-efdc397988e9"
      },
      "outputs": [],
      "source": [
        "import matplotlib.pyplot as plt\n",
        "from sklearn.tree import plot_tree\n",
        "\n",
        "plt.figure(figsize=(64, 32))\n",
        "\n",
        "plot_tree(\n",
        "     my_tree,\n",
        "     filled=True, \n",
        "     rounded=True, \n",
        "     class_names=['Not Survived','Survived'], \n",
        "     feature_names=X_num.columns\n",
        "     );"
      ]
    },
    {
      "cell_type": "markdown",
      "metadata": {
        "id": "tlQGzeQdr1Q4"
      },
      "source": [
        "Our current tree is too big to distinguish what's going on. It has dozens, maybe hundreds of rules. In other words, our model is **very complex**, which is a common characteristic of models that suffer from overfitting.\n",
        "\n",
        "To reduce the complexity (the size) of the tree and prevent overfitting, we can play with the hyperparameters of the tree. It's a process known as \"pruning\" the tree."
      ]
    },
    {
      "cell_type": "markdown",
      "metadata": {
        "id": "D94G4FqGsiol"
      },
      "source": [
        "### **Exercise 1**: Pruning the tree\n",
        "\n",
        "1. Tweak the parameters `max_depth` and `min_samples_leaf` of the decision tree, based on the Scikit-Learn documentation and the Statquest videos you watched following the Learning Platform.\n",
        "2. Try to make the tree smaller.\n",
        "3. Visualize again the tree.\n",
        "4. Check the performance of your \"small tree\" on the train & test sets."
      ]
    },
    {
      "cell_type": "code",
      "execution_count": null,
      "metadata": {
        "colab": {
          "base_uri": "https://localhost:8080/",
          "height": 632
        },
        "id": "63UqdwzOslC4",
        "outputId": "9fc0abe3-3c04-4708-c10c-bdeb0822fc4b"
      },
      "outputs": [],
      "source": [
        "# your code here\n",
        "# 2. initialize the model (optional: give some parameters)\n",
        "my_tree_prunned = DecisionTreeClassifier(max_depth = 4,\n",
        "                                         min_samples_leaf=10\n",
        "                                         )\n",
        "\n",
        "# 3. fit the model to the train data\n",
        "my_tree_prunned.fit(X = X_num_imputed_train, \n",
        "            y = y_train)\n",
        "\n",
        "plt.figure(figsize=(32, 16))\n",
        "\n",
        "plot_tree(\n",
        "     my_tree_prunned,\n",
        "     filled=True, \n",
        "     rounded=True, \n",
        "     class_names=['Not Survived','Survived'], \n",
        "     feature_names=X_num.columns\n",
        "     );"
      ]
    },
    {
      "cell_type": "code",
      "execution_count": null,
      "metadata": {
        "id": "hKYBwV8AVQMt"
      },
      "outputs": [],
      "source": [
        "# make predictions on the train set\n",
        "y_pred_tree_train = my_tree_prunned.predict(X_num_imputed_train)"
      ]
    },
    {
      "cell_type": "code",
      "execution_count": null,
      "metadata": {
        "colab": {
          "base_uri": "https://localhost:8080/"
        },
        "id": "WSsR7ZcKVQEz",
        "outputId": "12ce3f03-7f9d-45d6-d35d-673e2c3eee5d"
      },
      "outputs": [],
      "source": [
        "accuracy_score(y_true = y_train,\n",
        "               y_pred = y_pred_tree_train\n",
        "              )"
      ]
    },
    {
      "cell_type": "code",
      "execution_count": null,
      "metadata": {
        "id": "deYhmUB2VP57"
      },
      "outputs": [],
      "source": []
    },
    {
      "cell_type": "markdown",
      "metadata": {
        "id": "cq8fTB9TWPX3"
      },
      "source": [
        "Make predictions on the test set"
      ]
    },
    {
      "cell_type": "code",
      "execution_count": null,
      "metadata": {
        "id": "AKQlMFkXV1eB"
      },
      "outputs": [],
      "source": [
        "y_pred_tree_test = my_tree_prunned.predict(X_num_imputed_test)"
      ]
    },
    {
      "cell_type": "code",
      "execution_count": null,
      "metadata": {
        "colab": {
          "base_uri": "https://localhost:8080/"
        },
        "id": "GzG13HkdV1U2",
        "outputId": "5f622d38-9257-4f83-acca-96102ac8724b"
      },
      "outputs": [],
      "source": [
        "accuracy_score(y_true = y_test,\n",
        "               y_pred = y_pred_tree_test\n",
        "              )"
      ]
    },
    {
      "cell_type": "markdown",
      "metadata": {
        "id": "PE9O5LB-UkcQ"
      },
      "source": [
        "## **Your challenge**\n",
        "\n",
        "In a new notebook, apply everything you have learned here to the Housing project."
      ]
    },
    {
      "cell_type": "code",
      "execution_count": null,
      "metadata": {
        "id": "ofPmL0daUyrG"
      },
      "outputs": [],
      "source": []
    }
  ],
  "metadata": {
    "colab": {
      "provenance": []
    },
    "kernelspec": {
      "display_name": "Python 3",
      "language": "python",
      "name": "python3"
    },
    "language_info": {
      "codemirror_mode": {
        "name": "ipython",
        "version": 3
      },
      "file_extension": ".py",
      "mimetype": "text/x-python",
      "name": "python",
      "nbconvert_exporter": "python",
      "pygments_lexer": "ipython3",
      "version": "3.10.6"
    },
    "vscode": {
      "interpreter": {
        "hash": "ea1167cbcaad81cdbbc35255037ba90d13cf758e6bff12ff9eb1557202ecbe5c"
      }
    }
  },
  "nbformat": 4,
  "nbformat_minor": 0
}
