{
  "cells": [
    {
      "cell_type": "code",
      "execution_count": 1,
      "metadata": {
        "id": "ZpI9DpkT9AcN"
      },
      "outputs": [],
      "source": [
        "# this needs to be run for each new runtime\n",
        "# because colab has scikit-learn 1.0.2 pre-installed \n",
        "# and we need newer version (1.2.0 and higher)\n",
        "# to use .set_output() method\n",
        "\n",
        "# !pip install scikit-learn --upgrade\n",
        "\n",
        "# if you plan on running the whole notebook again during the same runtime\n",
        "# you can comment the line above"
      ]
    },
    {
      "cell_type": "markdown",
      "metadata": {
        "id": "qXFGScYJv0zO"
      },
      "source": [
        "# Titanic 3: Creating a Pipeline and tuning the model with Grid Search Cross Validation"
      ]
    },
    {
      "cell_type": "markdown",
      "metadata": {
        "id": "hvblkIsDwBlI"
      },
      "source": [
        "# 1.&nbsp; Data reading and preprocessing\n",
        "\n",
        "We will first review what we did in the previous notebook."
      ]
    },
    {
      "cell_type": "code",
      "execution_count": 2,
      "metadata": {
        "id": "JZ8bIzGAgCpI"
      },
      "outputs": [],
      "source": [
        "import pandas as pd"
      ]
    },
    {
      "cell_type": "code",
      "execution_count": 3,
      "metadata": {
        "colab": {
          "base_uri": "https://localhost:8080/",
          "height": 206
        },
        "id": "fgUcuPKovu5T",
        "outputId": "5cc177cc-205a-4dd8-d2d5-a444f2c39469"
      },
      "outputs": [
        {
          "data": {
            "text/html": [
              "<div>\n",
              "<style scoped>\n",
              "    .dataframe tbody tr th:only-of-type {\n",
              "        vertical-align: middle;\n",
              "    }\n",
              "\n",
              "    .dataframe tbody tr th {\n",
              "        vertical-align: top;\n",
              "    }\n",
              "\n",
              "    .dataframe thead th {\n",
              "        text-align: right;\n",
              "    }\n",
              "</style>\n",
              "<table border=\"1\" class=\"dataframe\">\n",
              "  <thead>\n",
              "    <tr style=\"text-align: right;\">\n",
              "      <th></th>\n",
              "      <th>PassengerId</th>\n",
              "      <th>Survived</th>\n",
              "      <th>Pclass</th>\n",
              "      <th>Name</th>\n",
              "      <th>Sex</th>\n",
              "      <th>Age</th>\n",
              "      <th>SibSp</th>\n",
              "      <th>Parch</th>\n",
              "      <th>Ticket</th>\n",
              "      <th>Fare</th>\n",
              "      <th>Cabin</th>\n",
              "      <th>Embarked</th>\n",
              "    </tr>\n",
              "  </thead>\n",
              "  <tbody>\n",
              "    <tr>\n",
              "      <th>0</th>\n",
              "      <td>1</td>\n",
              "      <td>0</td>\n",
              "      <td>3</td>\n",
              "      <td>Braund, Mr. Owen Harris</td>\n",
              "      <td>male</td>\n",
              "      <td>22.0</td>\n",
              "      <td>1</td>\n",
              "      <td>0</td>\n",
              "      <td>A/5 21171</td>\n",
              "      <td>7.2500</td>\n",
              "      <td>NaN</td>\n",
              "      <td>S</td>\n",
              "    </tr>\n",
              "    <tr>\n",
              "      <th>1</th>\n",
              "      <td>2</td>\n",
              "      <td>1</td>\n",
              "      <td>1</td>\n",
              "      <td>Cumings, Mrs. John Bradley (Florence Briggs Th...</td>\n",
              "      <td>female</td>\n",
              "      <td>38.0</td>\n",
              "      <td>1</td>\n",
              "      <td>0</td>\n",
              "      <td>PC 17599</td>\n",
              "      <td>71.2833</td>\n",
              "      <td>C85</td>\n",
              "      <td>C</td>\n",
              "    </tr>\n",
              "    <tr>\n",
              "      <th>2</th>\n",
              "      <td>3</td>\n",
              "      <td>1</td>\n",
              "      <td>3</td>\n",
              "      <td>Heikkinen, Miss. Laina</td>\n",
              "      <td>female</td>\n",
              "      <td>26.0</td>\n",
              "      <td>0</td>\n",
              "      <td>0</td>\n",
              "      <td>STON/O2. 3101282</td>\n",
              "      <td>7.9250</td>\n",
              "      <td>NaN</td>\n",
              "      <td>S</td>\n",
              "    </tr>\n",
              "    <tr>\n",
              "      <th>3</th>\n",
              "      <td>4</td>\n",
              "      <td>1</td>\n",
              "      <td>1</td>\n",
              "      <td>Futrelle, Mrs. Jacques Heath (Lily May Peel)</td>\n",
              "      <td>female</td>\n",
              "      <td>35.0</td>\n",
              "      <td>1</td>\n",
              "      <td>0</td>\n",
              "      <td>113803</td>\n",
              "      <td>53.1000</td>\n",
              "      <td>C123</td>\n",
              "      <td>S</td>\n",
              "    </tr>\n",
              "    <tr>\n",
              "      <th>4</th>\n",
              "      <td>5</td>\n",
              "      <td>0</td>\n",
              "      <td>3</td>\n",
              "      <td>Allen, Mr. William Henry</td>\n",
              "      <td>male</td>\n",
              "      <td>35.0</td>\n",
              "      <td>0</td>\n",
              "      <td>0</td>\n",
              "      <td>373450</td>\n",
              "      <td>8.0500</td>\n",
              "      <td>NaN</td>\n",
              "      <td>S</td>\n",
              "    </tr>\n",
              "  </tbody>\n",
              "</table>\n",
              "</div>"
            ],
            "text/plain": [
              "   PassengerId  Survived  Pclass  \\\n",
              "0            1         0       3   \n",
              "1            2         1       1   \n",
              "2            3         1       3   \n",
              "3            4         1       1   \n",
              "4            5         0       3   \n",
              "\n",
              "                                                Name     Sex   Age  SibSp  \\\n",
              "0                            Braund, Mr. Owen Harris    male  22.0      1   \n",
              "1  Cumings, Mrs. John Bradley (Florence Briggs Th...  female  38.0      1   \n",
              "2                             Heikkinen, Miss. Laina  female  26.0      0   \n",
              "3       Futrelle, Mrs. Jacques Heath (Lily May Peel)  female  35.0      1   \n",
              "4                           Allen, Mr. William Henry    male  35.0      0   \n",
              "\n",
              "   Parch            Ticket     Fare Cabin Embarked  \n",
              "0      0         A/5 21171   7.2500   NaN        S  \n",
              "1      0          PC 17599  71.2833   C85        C  \n",
              "2      0  STON/O2. 3101282   7.9250   NaN        S  \n",
              "3      0            113803  53.1000  C123        S  \n",
              "4      0            373450   8.0500   NaN        S  "
            ]
          },
          "execution_count": 3,
          "metadata": {},
          "output_type": "execute_result"
        }
      ],
      "source": [
        "url = \"https://drive.google.com/file/d/1g3uhw_y3tboRm2eYDPfUzXXsw8IOYDCy/view?usp=sharing\"\n",
        "path = 'https://drive.google.com/uc?export=download&id='+url.split('/')[-2]\n",
        "\n",
        "data = pd.read_csv(path)\n",
        "data.head()"
      ]
    },
    {
      "cell_type": "markdown",
      "metadata": {
        "id": "57d0l4uEvu5W"
      },
      "source": [
        "## 1.1. Set X and y"
      ]
    },
    {
      "cell_type": "markdown",
      "metadata": {
        "id": "3H0mDLIvhhBx"
      },
      "source": [
        "- **X**: columns that help us make a prediction.\n",
        "- **y**: the column that we want to predict."
      ]
    },
    {
      "cell_type": "code",
      "execution_count": 4,
      "metadata": {
        "id": "3rX2vgy5vu5Y"
      },
      "outputs": [],
      "source": [
        "X = data.drop(columns=[\"PassengerId\", \"Name\", \"Ticket\"])\n",
        "y = X.pop(\"Survived\")"
      ]
    },
    {
      "cell_type": "markdown",
      "metadata": {
        "id": "9kP78izKvu5Y"
      },
      "source": [
        "## 1.2. Feature selection"
      ]
    },
    {
      "cell_type": "markdown",
      "metadata": {
        "id": "f8p21HITfFnc"
      },
      "source": [
        "Since scikit-Learn models cannot deal with categorical features, we will keep only the numerical features."
      ]
    },
    {
      "cell_type": "code",
      "execution_count": 5,
      "metadata": {
        "id": "JgVzbmBGvu5Z"
      },
      "outputs": [],
      "source": [
        "X_num = X.select_dtypes(include=\"number\")"
      ]
    },
    {
      "cell_type": "markdown",
      "metadata": {
        "id": "IDfzSb5hvu5Z"
      },
      "source": [
        "## 1.3. Split the data"
      ]
    },
    {
      "cell_type": "code",
      "execution_count": 6,
      "metadata": {
        "id": "TQ0DZqlKgAf4"
      },
      "outputs": [
        {
          "ename": "KeyboardInterrupt",
          "evalue": "",
          "output_type": "error",
          "traceback": [
            "\u001b[1;31m---------------------------------------------------------------------------\u001b[0m",
            "\u001b[1;31mKeyboardInterrupt\u001b[0m                         Traceback (most recent call last)",
            "Cell \u001b[1;32mIn[6], line 1\u001b[0m\n\u001b[1;32m----> 1\u001b[0m \u001b[39mfrom\u001b[39;00m \u001b[39msklearn\u001b[39;00m\u001b[39m.\u001b[39;00m\u001b[39mmodel_selection\u001b[39;00m \u001b[39mimport\u001b[39;00m train_test_split\n",
            "File \u001b[1;32mc:\\Users\\AlexD\\Desktop\\Python\\Python 3.10.6\\lib\\site-packages\\sklearn\\__init__.py:82\u001b[0m\n\u001b[0;32m     80\u001b[0m \u001b[39mfrom\u001b[39;00m \u001b[39m.\u001b[39;00m \u001b[39mimport\u001b[39;00m _distributor_init  \u001b[39m# noqa: F401\u001b[39;00m\n\u001b[0;32m     81\u001b[0m \u001b[39mfrom\u001b[39;00m \u001b[39m.\u001b[39;00m \u001b[39mimport\u001b[39;00m __check_build  \u001b[39m# noqa: F401\u001b[39;00m\n\u001b[1;32m---> 82\u001b[0m \u001b[39mfrom\u001b[39;00m \u001b[39m.\u001b[39;00m\u001b[39mbase\u001b[39;00m \u001b[39mimport\u001b[39;00m clone\n\u001b[0;32m     83\u001b[0m \u001b[39mfrom\u001b[39;00m \u001b[39m.\u001b[39;00m\u001b[39mutils\u001b[39;00m\u001b[39m.\u001b[39;00m\u001b[39m_show_versions\u001b[39;00m \u001b[39mimport\u001b[39;00m show_versions\n\u001b[0;32m     85\u001b[0m __all__ \u001b[39m=\u001b[39m [\n\u001b[0;32m     86\u001b[0m     \u001b[39m\"\u001b[39m\u001b[39mcalibration\u001b[39m\u001b[39m\"\u001b[39m,\n\u001b[0;32m     87\u001b[0m     \u001b[39m\"\u001b[39m\u001b[39mcluster\u001b[39m\u001b[39m\"\u001b[39m,\n\u001b[1;32m   (...)\u001b[0m\n\u001b[0;32m    128\u001b[0m     \u001b[39m\"\u001b[39m\u001b[39mshow_versions\u001b[39m\u001b[39m\"\u001b[39m,\n\u001b[0;32m    129\u001b[0m ]\n",
            "File \u001b[1;32mc:\\Users\\AlexD\\Desktop\\Python\\Python 3.10.6\\lib\\site-packages\\sklearn\\base.py:17\u001b[0m\n\u001b[0;32m     15\u001b[0m \u001b[39mfrom\u001b[39;00m \u001b[39m.\u001b[39;00m \u001b[39mimport\u001b[39;00m __version__\n\u001b[0;32m     16\u001b[0m \u001b[39mfrom\u001b[39;00m \u001b[39m.\u001b[39;00m\u001b[39m_config\u001b[39;00m \u001b[39mimport\u001b[39;00m get_config\n\u001b[1;32m---> 17\u001b[0m \u001b[39mfrom\u001b[39;00m \u001b[39m.\u001b[39;00m\u001b[39mutils\u001b[39;00m \u001b[39mimport\u001b[39;00m _IS_32BIT\n\u001b[0;32m     18\u001b[0m \u001b[39mfrom\u001b[39;00m \u001b[39m.\u001b[39;00m\u001b[39mutils\u001b[39;00m\u001b[39m.\u001b[39;00m\u001b[39m_set_output\u001b[39;00m \u001b[39mimport\u001b[39;00m _SetOutputMixin\n\u001b[0;32m     19\u001b[0m \u001b[39mfrom\u001b[39;00m \u001b[39m.\u001b[39;00m\u001b[39mutils\u001b[39;00m\u001b[39m.\u001b[39;00m\u001b[39m_tags\u001b[39;00m \u001b[39mimport\u001b[39;00m (\n\u001b[0;32m     20\u001b[0m     _DEFAULT_TAGS,\n\u001b[0;32m     21\u001b[0m )\n",
            "File \u001b[1;32mc:\\Users\\AlexD\\Desktop\\Python\\Python 3.10.6\\lib\\site-packages\\sklearn\\utils\\__init__.py:17\u001b[0m\n\u001b[0;32m     15\u001b[0m \u001b[39mimport\u001b[39;00m \u001b[39mwarnings\u001b[39;00m\n\u001b[0;32m     16\u001b[0m \u001b[39mimport\u001b[39;00m \u001b[39mnumpy\u001b[39;00m \u001b[39mas\u001b[39;00m \u001b[39mnp\u001b[39;00m\n\u001b[1;32m---> 17\u001b[0m \u001b[39mfrom\u001b[39;00m \u001b[39mscipy\u001b[39;00m\u001b[39m.\u001b[39;00m\u001b[39msparse\u001b[39;00m \u001b[39mimport\u001b[39;00m issparse\n\u001b[0;32m     19\u001b[0m \u001b[39mfrom\u001b[39;00m \u001b[39m.\u001b[39;00m\u001b[39mmurmurhash\u001b[39;00m \u001b[39mimport\u001b[39;00m murmurhash3_32\n\u001b[0;32m     20\u001b[0m \u001b[39mfrom\u001b[39;00m \u001b[39m.\u001b[39;00m\u001b[39mclass_weight\u001b[39;00m \u001b[39mimport\u001b[39;00m compute_class_weight, compute_sample_weight\n",
            "File \u001b[1;32mc:\\Users\\AlexD\\Desktop\\Python\\Python 3.10.6\\lib\\site-packages\\scipy\\sparse\\__init__.py:267\u001b[0m\n\u001b[0;32m    264\u001b[0m \u001b[39mimport\u001b[39;00m \u001b[39mwarnings\u001b[39;00m \u001b[39mas\u001b[39;00m \u001b[39m_warnings\u001b[39;00m\n\u001b[0;32m    266\u001b[0m \u001b[39mfrom\u001b[39;00m \u001b[39m.\u001b[39;00m\u001b[39m_base\u001b[39;00m \u001b[39mimport\u001b[39;00m \u001b[39m*\u001b[39m\n\u001b[1;32m--> 267\u001b[0m \u001b[39mfrom\u001b[39;00m \u001b[39m.\u001b[39;00m\u001b[39m_csr\u001b[39;00m \u001b[39mimport\u001b[39;00m \u001b[39m*\u001b[39m\n\u001b[0;32m    268\u001b[0m \u001b[39mfrom\u001b[39;00m \u001b[39m.\u001b[39;00m\u001b[39m_csc\u001b[39;00m \u001b[39mimport\u001b[39;00m \u001b[39m*\u001b[39m\n\u001b[0;32m    269\u001b[0m \u001b[39mfrom\u001b[39;00m \u001b[39m.\u001b[39;00m\u001b[39m_lil\u001b[39;00m \u001b[39mimport\u001b[39;00m \u001b[39m*\u001b[39m\n",
            "File \u001b[1;32mc:\\Users\\AlexD\\Desktop\\Python\\Python 3.10.6\\lib\\site-packages\\scipy\\sparse\\_csr.py:10\u001b[0m\n\u001b[0;32m      7\u001b[0m \u001b[39mimport\u001b[39;00m \u001b[39mnumpy\u001b[39;00m \u001b[39mas\u001b[39;00m \u001b[39mnp\u001b[39;00m\n\u001b[0;32m      9\u001b[0m \u001b[39mfrom\u001b[39;00m \u001b[39m.\u001b[39;00m\u001b[39m_base\u001b[39;00m \u001b[39mimport\u001b[39;00m spmatrix\n\u001b[1;32m---> 10\u001b[0m \u001b[39mfrom\u001b[39;00m \u001b[39m.\u001b[39;00m\u001b[39m_sparsetools\u001b[39;00m \u001b[39mimport\u001b[39;00m (csr_tocsc, csr_tobsr, csr_count_blocks,\n\u001b[0;32m     11\u001b[0m                            get_csr_submatrix)\n\u001b[0;32m     12\u001b[0m \u001b[39mfrom\u001b[39;00m \u001b[39m.\u001b[39;00m\u001b[39m_sputils\u001b[39;00m \u001b[39mimport\u001b[39;00m upcast, get_index_dtype\n\u001b[0;32m     14\u001b[0m \u001b[39mfrom\u001b[39;00m \u001b[39m.\u001b[39;00m\u001b[39m_compressed\u001b[39;00m \u001b[39mimport\u001b[39;00m _cs_matrix\n",
            "\u001b[1;31mKeyboardInterrupt\u001b[0m: "
          ]
        }
      ],
      "source": [
        "from sklearn.model_selection import train_test_split"
      ]
    },
    {
      "cell_type": "code",
      "execution_count": null,
      "metadata": {
        "id": "ul_C6DXMvu5a"
      },
      "outputs": [],
      "source": [
        "X_num_train, X_num_test, y_train, y_test = train_test_split(X_num, \n",
        "                                                            y, \n",
        "                                                            test_size=0.2, \n",
        "                                                            random_state=123)"
      ]
    },
    {
      "cell_type": "markdown",
      "metadata": {
        "id": "x9RPgKLhvu5b"
      },
      "source": [
        "## 1.4. Impute missing values"
      ]
    },
    {
      "cell_type": "markdown",
      "metadata": {
        "id": "yUMcTmvGQEGi"
      },
      "source": [
        "(Fit on train, transform train & test)"
      ]
    },
    {
      "cell_type": "code",
      "execution_count": null,
      "metadata": {
        "id": "IOTk7_HSQEGt"
      },
      "outputs": [],
      "source": [
        "from sklearn.impute import SimpleImputer\n",
        "\n",
        "my_imputer = SimpleImputer().set_output(transform='pandas') # initialize\n",
        "my_imputer.fit(X_num_train) # fit on the train set\n",
        "X_num_imputed_train = my_imputer.transform(X_num_train) # transform the train set\n",
        "X_num_imputed_test = my_imputer.transform(X_num_test) # transform the test set"
      ]
    },
    {
      "cell_type": "markdown",
      "metadata": {
        "id": "g0QFXBvGvu5c"
      },
      "source": [
        "## 1.5. Modelling: Decision Tree\n",
        "\n",
        "https://scikit-learn.org/stable/modules/generated/sklearn.tree.DecisionTreeClassifier.html"
      ]
    },
    {
      "cell_type": "code",
      "execution_count": null,
      "metadata": {
        "id": "5m3zhmhdfnqy"
      },
      "outputs": [],
      "source": [
        "from sklearn.tree import DecisionTreeClassifier"
      ]
    },
    {
      "cell_type": "markdown",
      "metadata": {
        "id": "s_fYygHVfqou"
      },
      "source": [
        "Initialize the model."
      ]
    },
    {
      "cell_type": "code",
      "execution_count": null,
      "metadata": {
        "id": "oZmmxJ63vu5d"
      },
      "outputs": [],
      "source": [
        "my_tree = DecisionTreeClassifier(max_depth=4,\n",
        "                                 min_samples_leaf=10\n",
        "                                )"
      ]
    },
    {
      "cell_type": "markdown",
      "metadata": {
        "id": "H3Ajp-ONftwQ"
      },
      "source": [
        "Fit the model to the train data."
      ]
    },
    {
      "cell_type": "code",
      "execution_count": null,
      "metadata": {
        "colab": {
          "base_uri": "https://localhost:8080/",
          "height": 74
        },
        "id": "3A_esq78fyTA",
        "outputId": "3149b033-d4e2-4d10-dca5-0c3bb89366b3"
      },
      "outputs": [],
      "source": [
        "my_tree.fit(X = X_num_imputed_train, \n",
        "            y = y_train)"
      ]
    },
    {
      "cell_type": "markdown",
      "metadata": {
        "id": "mySTGdw_vu5d"
      },
      "source": [
        "## 1.6. Check accuracy on the train set"
      ]
    },
    {
      "cell_type": "code",
      "execution_count": null,
      "metadata": {
        "id": "_8wR-FqwfjY-"
      },
      "outputs": [],
      "source": [
        "from sklearn.metrics import accuracy_score"
      ]
    },
    {
      "cell_type": "markdown",
      "metadata": {
        "id": "nCSacsZxORaS"
      },
      "source": [
        "Use the model and the preprocessed **train** data to make predictions."
      ]
    },
    {
      "cell_type": "code",
      "execution_count": null,
      "metadata": {
        "id": "kfa0Aoi6vu5e"
      },
      "outputs": [],
      "source": [
        "y_pred_tree_train = my_tree.predict(X_num_imputed_train)"
      ]
    },
    {
      "cell_type": "code",
      "execution_count": null,
      "metadata": {
        "colab": {
          "base_uri": "https://localhost:8080/"
        },
        "id": "77mcUizEO1Ia",
        "outputId": "8c29482b-bad4-4bef-ffc8-4cd1507fe1f9"
      },
      "outputs": [],
      "source": [
        "y_pred_tree_train"
      ]
    },
    {
      "cell_type": "markdown",
      "metadata": {
        "id": "ScETp95BO24Q"
      },
      "source": [
        "Take the predicted values and the data from y train, and compare them with each other. The greater the share of correct predictions is, the closer the accuracy score will be to 1."
      ]
    },
    {
      "cell_type": "code",
      "execution_count": null,
      "metadata": {
        "colab": {
          "base_uri": "https://localhost:8080/"
        },
        "id": "PDENRfI1OjGb",
        "outputId": "e694d7c6-10f5-4b3e-97fb-f031bcb86bf0"
      },
      "outputs": [],
      "source": [
        "accuracy_score(y_true = y_train,\n",
        "               y_pred = y_pred_tree_train)"
      ]
    },
    {
      "cell_type": "markdown",
      "metadata": {
        "id": "uAUerP3Gvu5e"
      },
      "source": [
        "## 1.7. Check accuracy on the test set"
      ]
    },
    {
      "cell_type": "markdown",
      "metadata": {
        "id": "PA062QmwPNlS"
      },
      "source": [
        "To check whether our model is only good at predicting the values it was trained on (overfitting) or also useful to predict new data:\n",
        "\n",
        "use the model and the preprocessed **test** data to make predictions."
      ]
    },
    {
      "cell_type": "code",
      "execution_count": null,
      "metadata": {
        "id": "P3DZqJnnvu5e"
      },
      "outputs": [],
      "source": [
        "y_pred_tree_test = my_tree.predict(X_num_imputed_test)"
      ]
    },
    {
      "cell_type": "markdown",
      "metadata": {
        "id": "4YXastxJPx8g"
      },
      "source": [
        "Then, take the predicted values and the data from y test, and compare them with each other.\n",
        "\n",
        "Ideally, the accuracy for the train and the test data is similar."
      ]
    },
    {
      "cell_type": "code",
      "execution_count": null,
      "metadata": {
        "colab": {
          "base_uri": "https://localhost:8080/"
        },
        "id": "Ptummy7TPs3K",
        "outputId": "4fa5b54c-316f-4fee-948d-90fe425be7d3"
      },
      "outputs": [],
      "source": [
        "my_test_score = accuracy_score(y_true = y_test,\n",
        "               y_pred = y_pred_tree_test)\n",
        "round(my_test_score,4)"
      ]
    },
    {
      "cell_type": "markdown",
      "metadata": {
        "id": "Rm08l1JBvu5h"
      },
      "source": [
        "# 2.&nbsp; Pipeline creation"
      ]
    },
    {
      "cell_type": "markdown",
      "metadata": {
        "id": "LlwR7bcBfBqi"
      },
      "source": [
        "Before moving forward in our quest to improve the model, take a moment to learn how to use Scikit-Learn Pipelines. They will not increase the performance of your model. However, they are a necessary tool to compress all the steps in the data preparation & modelling phases into a single one. This will become very relevant as we move forward and keep adding more steps:\n",
        "\n",
        "* Read the lesson \"Scikit-Learn Pipelines\" on the platform.\n",
        "\n",
        "* Check the docs: https://scikit-learn.org/stable/modules/generated/sklearn.pipeline.make_pipeline.html"
      ]
    },
    {
      "cell_type": "code",
      "execution_count": null,
      "metadata": {
        "id": "xXSft-JsY3xh"
      },
      "outputs": [],
      "source": [
        "from sklearn.impute import SimpleImputer\n",
        "from sklearn.tree import DecisionTreeClassifier\n",
        "from sklearn.pipeline import make_pipeline"
      ]
    },
    {
      "cell_type": "markdown",
      "metadata": {
        "id": "TkvJqYqjY5pF"
      },
      "source": [
        "## 2.1 Initialize transformer and model"
      ]
    },
    {
      "cell_type": "code",
      "execution_count": null,
      "metadata": {
        "id": "HlJcpzCcY-de"
      },
      "outputs": [],
      "source": [
        "imputer = SimpleImputer(strategy=\"median\")\n",
        "dtree = DecisionTreeClassifier(max_depth=4,\n",
        "                               min_samples_leaf=10)"
      ]
    },
    {
      "cell_type": "markdown",
      "metadata": {
        "id": "t9q2XmrrZA-G"
      },
      "source": [
        "## 2.2 Create a pipeline"
      ]
    },
    {
      "cell_type": "code",
      "execution_count": null,
      "metadata": {
        "id": "dYJo9JB9ZEbY"
      },
      "outputs": [],
      "source": [
        "pipe = make_pipeline(imputer, dtree).set_output(transform='pandas')"
      ]
    },
    {
      "cell_type": "code",
      "execution_count": null,
      "metadata": {
        "id": "GS_R-sgceySa"
      },
      "outputs": [],
      "source": []
    },
    {
      "cell_type": "markdown",
      "metadata": {
        "id": "VA-Sv3M1ZGjk"
      },
      "source": [
        "Note that make_pipeline is just a slightly more concise function than Pipeline, as it does not require you to name each step, but their behaviour is equivalent."
      ]
    },
    {
      "cell_type": "code",
      "execution_count": null,
      "metadata": {
        "id": "fdZBXWhxQrM0"
      },
      "outputs": [],
      "source": [
        "from sklearn.pipeline import Pipeline\n",
        "pipe_2 = Pipeline([(\"imputer\", imputer), (\"classifier\", dtree)]).set_output(transform='pandas')"
      ]
    },
    {
      "cell_type": "markdown",
      "metadata": {
        "id": "Bb7MboiKZNHm"
      },
      "source": [
        "## 2.3 Fit the pipeline to the training data"
      ]
    },
    {
      "cell_type": "code",
      "execution_count": null,
      "metadata": {
        "colab": {
          "base_uri": "https://localhost:8080/",
          "height": 125
        },
        "id": "j9lfCJkQZRBz",
        "outputId": "c43e8330-8498-4af9-d119-e8ef785ecccb"
      },
      "outputs": [],
      "source": [
        "pipe.fit(X_num_train, y_train)"
      ]
    },
    {
      "cell_type": "markdown",
      "metadata": {
        "id": "gSnYFoSa--lI"
      },
      "source": [
        "If you want pipe steps presented like text:"
      ]
    },
    {
      "cell_type": "code",
      "execution_count": null,
      "metadata": {
        "colab": {
          "base_uri": "https://localhost:8080/"
        },
        "id": "k1s3TrkB-8Ke",
        "outputId": "abc818ad-af6c-4e76-a301-a66839796f0a"
      },
      "outputs": [],
      "source": [
        "from sklearn import set_config\n",
        "\n",
        "set_config(display=\"text\")\n",
        "pipe"
      ]
    },
    {
      "cell_type": "markdown",
      "metadata": {
        "id": "Wd4CfnXQ_MAP"
      },
      "source": [
        "To switch back to diagram:"
      ]
    },
    {
      "cell_type": "code",
      "execution_count": null,
      "metadata": {
        "colab": {
          "base_uri": "https://localhost:8080/",
          "height": 125
        },
        "id": "gUiCgxmD_LZ4",
        "outputId": "9d319e9e-237f-46e1-98f1-3da90a616193"
      },
      "outputs": [],
      "source": [
        "set_config(display=\"diagram\")\n",
        "pipe"
      ]
    },
    {
      "cell_type": "code",
      "execution_count": null,
      "metadata": {
        "colab": {
          "base_uri": "https://localhost:8080/"
        },
        "id": "ub7rM7ayicOQ",
        "outputId": "aefeb631-49d0-4c70-eeae-6bc9a15afbdd"
      },
      "outputs": [],
      "source": [
        "y_train_predict = pipe.predict(X_num_train)\n",
        "accuracy_score(y_train,y_train_predict)"
      ]
    },
    {
      "cell_type": "code",
      "execution_count": null,
      "metadata": {
        "colab": {
          "base_uri": "https://localhost:8080/"
        },
        "id": "Q3eIsd52i90w",
        "outputId": "de139538-573e-49af-a76a-9a6fc45a6969"
      },
      "outputs": [],
      "source": [
        "accuracy_score(y_train,pipe.predict(X_num_train))"
      ]
    },
    {
      "cell_type": "markdown",
      "metadata": {
        "id": "cd6oI7sxZS1B"
      },
      "source": [
        "## 2.4 Use the pipeline to make predictions"
      ]
    },
    {
      "cell_type": "code",
      "execution_count": null,
      "metadata": {
        "colab": {
          "base_uri": "https://localhost:8080/"
        },
        "id": "kdkaTOjYvu5h",
        "outputId": "021758b4-6b10-4f7e-eeed-72e8713cd4f4"
      },
      "outputs": [],
      "source": [
        "accuracy_score(y_test,pipe.predict(X_num_test))"
      ]
    },
    {
      "cell_type": "markdown",
      "metadata": {
        "id": "oXN7nfdoa6IT"
      },
      "source": [
        "Now, the object `pipe` can take (almost) raw data as input and output predictions. We no longer need to impute missing values and use the model to make predictions in separate steps."
      ]
    },
    {
      "cell_type": "markdown",
      "metadata": {
        "id": "EuOESLyyvu5i"
      },
      "source": [
        "# 3.&nbsp; Use GridSearchCV to find the best parameters of the model"
      ]
    },
    {
      "cell_type": "markdown",
      "metadata": {
        "id": "aK2MUlWFfTNw"
      },
      "source": [
        "So far, we tuned the hyperparameters of the decision tree manually. This is not ideal, for two reasons:\n",
        "\n",
        "- It's not efficient in terms of quickly finding the best combination of parameters.\n",
        "- If we keep checking the performance on the test set over and over again, we might end up creating a model that fits that particular test set, but does not generalize as well with new data. Test sets are meant to reamain unseen until the very last moment of ML development —we have been cheating a bit!\n",
        "\n",
        "Grid Search Cross Validation solves both issues:\n",
        "\n",
        "* Read the lesson \"Housing Prices: Iteration 2, Grid Search & Cross Validation\" on the platform.\n",
        "\n",
        "* Check the docs: https://scikit-learn.org/stable/modules/generated/sklearn.model_selection.GridSearchCV.html"
      ]
    },
    {
      "cell_type": "code",
      "execution_count": null,
      "metadata": {
        "id": "hCRL4XQuXUDg"
      },
      "outputs": [],
      "source": [
        "# 1. initialize transformers & model without specifying the parameters\n",
        "imputer = SimpleImputer()\n",
        "dtree = DecisionTreeClassifier()"
      ]
    },
    {
      "cell_type": "code",
      "execution_count": null,
      "metadata": {
        "id": "FfYckJMlXWO5"
      },
      "outputs": [],
      "source": [
        "# 2. Create a pipeline\n",
        "pipe = make_pipeline(imputer, dtree).set_output(transform='pandas')"
      ]
    },
    {
      "cell_type": "code",
      "execution_count": null,
      "metadata": {
        "colab": {
          "base_uri": "https://localhost:8080/",
          "height": 165
        },
        "id": "db4jVow9XbP-",
        "outputId": "ed11839c-f597-476c-c2f6-0a4265dd7669"
      },
      "outputs": [],
      "source": [
        "pipe"
      ]
    },
    {
      "cell_type": "markdown",
      "metadata": {
        "id": "RiHxuPHfXLmi"
      },
      "source": [
        "To define the parameter grid for cross validation, you need to create a dictionary, where:\n",
        "\n",
        "- The keys are the name of the pipeline step, followed by two underscores and the name of the parameter you want to tune.\n",
        "- The values are lists (or \"ranges\") with all the values you want to try for each parameter."
      ]
    },
    {
      "cell_type": "code",
      "execution_count": null,
      "metadata": {
        "id": "W7awfF-qvu5i"
      },
      "outputs": [],
      "source": [
        "param_grid = {\n",
        "    'simpleimputer__strategy':['median','mean'],\n",
        "    'decisiontreeclassifier__max_depth': range(2, 12),\n",
        "    'decisiontreeclassifier__min_samples_leaf': range(3, 10, 2),\n",
        "    'decisiontreeclassifier__min_samples_split': range(3, 40, 5),\n",
        "    'decisiontreeclassifier__criterion':['gini', 'entropy']\n",
        "    }"
      ]
    },
    {
      "cell_type": "markdown",
      "metadata": {
        "id": "7OJ5NreuX346"
      },
      "source": [
        "When defining the cross validation, we want to pass our pipeline (`pipe`), our parameter grid (`param_grid`) and the number of folds (an arbitrary number, usually 5 or 10). You can also define the parameter `verbose` if you want to recieve a bit more info about the CV task."
      ]
    },
    {
      "cell_type": "code",
      "execution_count": null,
      "metadata": {
        "id": "E_e-HXEJffTv"
      },
      "outputs": [],
      "source": [
        "from sklearn.model_selection import GridSearchCV"
      ]
    },
    {
      "cell_type": "code",
      "execution_count": null,
      "metadata": {
        "id": "KQNxK82JXlgx"
      },
      "outputs": [],
      "source": [
        "search = GridSearchCV(pipe, # you have defined this beforehand\n",
        "                      param_grid, # your parameter grid\n",
        "                      cv=5, # the value for K in K-fold Cross Validation\n",
        "                      scoring='accuracy', # the performance metric to use, \n",
        "                      verbose=1) # we want informative outputs during the training process"
      ]
    },
    {
      "cell_type": "markdown",
      "metadata": {
        "id": "OJRaujB9X-bV"
      },
      "source": [
        "Fit your \"search\" to the training data (`X` and `y`), as we used to do with our model alone or with our pipeline:"
      ]
    },
    {
      "cell_type": "code",
      "execution_count": null,
      "metadata": {
        "colab": {
          "base_uri": "https://localhost:8080/",
          "height": 168
        },
        "id": "aHJ_JHWEvu5i",
        "outputId": "a4075f1c-8ee9-4880-b8d3-b4f75c17caff"
      },
      "outputs": [],
      "source": [
        "search.fit(X_num_imputed_train, y_train)"
      ]
    },
    {
      "cell_type": "markdown",
      "metadata": {
        "id": "DauXfzbyYCra"
      },
      "source": [
        "Explore the best parameters and the best score achieved with your cross validation:"
      ]
    },
    {
      "cell_type": "code",
      "execution_count": null,
      "metadata": {
        "colab": {
          "base_uri": "https://localhost:8080/"
        },
        "id": "UhJHlajCvu5i",
        "outputId": "7c1a7987-f36b-4184-8fc4-343be47297ac"
      },
      "outputs": [],
      "source": [
        "search.best_params_"
      ]
    },
    {
      "cell_type": "code",
      "execution_count": null,
      "metadata": {
        "colab": {
          "base_uri": "https://localhost:8080/"
        },
        "id": "UzXybXmDvu5i",
        "outputId": "6a24310f-f66a-464e-d743-5097f0c94a1d"
      },
      "outputs": [],
      "source": [
        "# the mean cross-validated score of the best estimator\n",
        "search.best_score_"
      ]
    },
    {
      "cell_type": "code",
      "execution_count": null,
      "metadata": {
        "colab": {
          "base_uri": "https://localhost:8080/"
        },
        "id": "0qtcwmmPYJeq",
        "outputId": "38ce9c55-3a97-413d-83de-442adc2e4e0a"
      },
      "outputs": [],
      "source": [
        "# training accuracy\n",
        "y_train_pred = search.predict(X_num_train)\n",
        "\n",
        "accuracy_score(y_train, y_train_pred)"
      ]
    },
    {
      "cell_type": "code",
      "execution_count": null,
      "metadata": {
        "colab": {
          "base_uri": "https://localhost:8080/"
        },
        "id": "1ZMbo9LEYLHP",
        "outputId": "b1585b8f-510f-4a7c-a90c-dfeb057db5a4"
      },
      "outputs": [],
      "source": [
        "# testing accuracy\n",
        "y_test_pred = search.predict(X_num_test)\n",
        "\n",
        "accuracy_score(y_test, y_test_pred)"
      ]
    },
    {
      "cell_type": "markdown",
      "metadata": {
        "id": "gIxMJAMxZ4JT"
      },
      "source": [
        "# 4.&nbsp; Use GridSearchCV to find the best parameters of the pipeline"
      ]
    },
    {
      "cell_type": "markdown",
      "metadata": {
        "id": "NBOYPkSfaKfa"
      },
      "source": [
        "Add a scaler to the pipeline, and use GridSearchCV to tune the parameters of the scaler, as well as the parameters of the imputer and the decision tree.\n",
        "\n",
        "This shows how Grid Search Cross Validation can be used to not only tune the parameters of the model but also the parameters of all the transformers in a pipeline, thus helping us find the best preprocessing strategy for our data."
      ]
    },
    {
      "cell_type": "code",
      "execution_count": null,
      "metadata": {
        "id": "47bItfTmgLFd"
      },
      "outputs": [],
      "source": [
        "from sklearn.preprocessing import StandardScaler"
      ]
    },
    {
      "cell_type": "code",
      "execution_count": null,
      "metadata": {
        "id": "MewEZR91gOhC"
      },
      "outputs": [],
      "source": [
        "# initialize transformers & model\n",
        "imputer = SimpleImputer()\n",
        "scaler = StandardScaler()\n",
        "dtree = DecisionTreeClassifier()"
      ]
    },
    {
      "cell_type": "code",
      "execution_count": null,
      "metadata": {
        "id": "WoRwFCcZgOdD"
      },
      "outputs": [],
      "source": [
        "# create the pipeline\n",
        "pipe = make_pipeline(imputer,\n",
        "                     scaler,\n",
        "                     dtree).set_output(transform='pandas')"
      ]
    },
    {
      "cell_type": "markdown",
      "metadata": {
        "id": "My_c2oTYgzRm"
      },
      "source": [
        "We can see the steps in the pipeline (note that they have been given names: `simpleimputer` and `decisiontreeclassifier`. we will use these names when defining the parameter grid for the cross validation)"
      ]
    },
    {
      "cell_type": "code",
      "execution_count": null,
      "metadata": {
        "colab": {
          "base_uri": "https://localhost:8080/",
          "height": 217
        },
        "id": "lMU7slfXgy7m",
        "outputId": "aa3ea971-a77e-4726-9819-71174380ab3a"
      },
      "outputs": [],
      "source": [
        "pipe"
      ]
    },
    {
      "cell_type": "code",
      "execution_count": null,
      "metadata": {
        "id": "TFj_f8NvgOYH"
      },
      "outputs": [],
      "source": [
        "# create parameter grid\n",
        "param_grid = {\n",
        "    \"simpleimputer__strategy\":[\"mean\", \"median\"],\n",
        "    \"standardscaler__with_mean\":[True, False],\n",
        "    \"standardscaler__with_std\":[True, False],\n",
        "    \"decisiontreeclassifier__max_depth\": range(2, 14),\n",
        "    \"decisiontreeclassifier__min_samples_leaf\": range(3, 20),\n",
        "    \"decisiontreeclassifier__criterion\":[\"gini\", \"entropy\"]\n",
        "}"
      ]
    },
    {
      "cell_type": "code",
      "execution_count": null,
      "metadata": {
        "id": "ud6p1wd5gOPv"
      },
      "outputs": [],
      "source": [
        "# define cross validation\n",
        "search = GridSearchCV(pipe,\n",
        "                      param_grid,\n",
        "                      cv=5,\n",
        "                      verbose=1)"
      ]
    },
    {
      "cell_type": "code",
      "execution_count": null,
      "metadata": {
        "colab": {
          "base_uri": "https://localhost:8080/",
          "height": 203
        },
        "id": "hatozyjKgW9d",
        "outputId": "baf12a7f-4dc0-45a0-a5a9-56458a6feee3"
      },
      "outputs": [],
      "source": [
        "# fit\n",
        "search.fit(X_num_train, y_train)"
      ]
    },
    {
      "cell_type": "code",
      "execution_count": null,
      "metadata": {
        "colab": {
          "base_uri": "https://localhost:8080/"
        },
        "id": "Tz9KebEhgYQW",
        "outputId": "1b4f0f92-0106-4e16-903a-a54515e16a27"
      },
      "outputs": [],
      "source": [
        "# cross validation average accuracy\n",
        "search.best_score_"
      ]
    },
    {
      "cell_type": "code",
      "execution_count": null,
      "metadata": {
        "colab": {
          "base_uri": "https://localhost:8080/"
        },
        "id": "4f_xX3Piehq0",
        "outputId": "0e4b1deb-0122-4c8a-d590-4fe476ccff06"
      },
      "outputs": [],
      "source": [
        "# best parameters\n",
        "search.best_params_"
      ]
    },
    {
      "cell_type": "code",
      "execution_count": null,
      "metadata": {
        "id": "vylzDH2wtrct"
      },
      "outputs": [],
      "source": []
    },
    {
      "cell_type": "code",
      "execution_count": null,
      "metadata": {
        "colab": {
          "base_uri": "https://localhost:8080/"
        },
        "id": "D5a1rR1Utwk_",
        "outputId": "2dee8920-f8f4-4ccb-b042-63dfcd1248f2"
      },
      "outputs": [],
      "source": [
        "# training accuracy\n",
        "y_train_pred = search.predict(X_num_train)\n",
        "\n",
        "accuracy_score(y_train, y_train_pred)"
      ]
    },
    {
      "cell_type": "code",
      "execution_count": null,
      "metadata": {
        "colab": {
          "base_uri": "https://localhost:8080/"
        },
        "id": "FKYUAXaQtwlA",
        "outputId": "d7072fe4-ffbb-463b-ebc4-b6bdbeb0be4e"
      },
      "outputs": [],
      "source": [
        "# testing accuracy\n",
        "y_test_pred = search.predict(X_num_test)\n",
        "\n",
        "accuracy_score(y_test, y_test_pred)"
      ]
    },
    {
      "cell_type": "markdown",
      "metadata": {
        "id": "U5zAyC8_Uwpz"
      },
      "source": [
        "## **Your challenge**\n",
        "\n",
        "In a new notebook, apply everything you have learned here to the Housing project, following the Learning platform when needed."
      ]
    },
    {
      "cell_type": "code",
      "execution_count": null,
      "metadata": {
        "id": "3PMad0HLXeZO"
      },
      "outputs": [],
      "source": []
    }
  ],
  "metadata": {
    "colab": {
      "collapsed_sections": [
        "U5zAyC8_Uwpz"
      ],
      "provenance": []
    },
    "kernelspec": {
      "display_name": "Python 3",
      "language": "python",
      "name": "python3"
    },
    "language_info": {
      "codemirror_mode": {
        "name": "ipython",
        "version": 3
      },
      "file_extension": ".py",
      "mimetype": "text/x-python",
      "name": "python",
      "nbconvert_exporter": "python",
      "pygments_lexer": "ipython3",
      "version": "3.10.6"
    },
    "vscode": {
      "interpreter": {
        "hash": "ea1167cbcaad81cdbbc35255037ba90d13cf758e6bff12ff9eb1557202ecbe5c"
      }
    }
  },
  "nbformat": 4,
  "nbformat_minor": 0
}
