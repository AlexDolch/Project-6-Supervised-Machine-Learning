{
  "cells": [
    {
      "cell_type": "code",
      "source": [
        "# this needs to be run for each new runtime\n",
        "# because colab has scikit-learn 1.0.2 pre-installed \n",
        "# and we need newer version (1.2.0 and higher)\n",
        "# to use .set_output() method\n",
        "!pip install scikit-learn --upgrade\n",
        "\n",
        "# if you plan on running the whole notebook again during the same runtime\n",
        "# you can comment the line above"
      ],
      "metadata": {
        "colab": {
          "base_uri": "https://localhost:8080/"
        },
        "id": "a9A89gWf6pgf",
        "outputId": "f0e6640e-d422-4dfa-8335-5bc26a234244"
      },
      "execution_count": null,
      "outputs": [
        {
          "output_type": "stream",
          "name": "stdout",
          "text": [
            "Looking in indexes: https://pypi.org/simple, https://us-python.pkg.dev/colab-wheels/public/simple/\n",
            "Requirement already satisfied: scikit-learn in /usr/local/lib/python3.8/dist-packages (1.2.1)\n",
            "Requirement already satisfied: threadpoolctl>=2.0.0 in /usr/local/lib/python3.8/dist-packages (from scikit-learn) (3.1.0)\n",
            "Requirement already satisfied: joblib>=1.1.1 in /usr/local/lib/python3.8/dist-packages (from scikit-learn) (1.2.0)\n",
            "Requirement already satisfied: numpy>=1.17.3 in /usr/local/lib/python3.8/dist-packages (from scikit-learn) (1.21.6)\n",
            "Requirement already satisfied: scipy>=1.3.2 in /usr/local/lib/python3.8/dist-packages (from scikit-learn) (1.7.3)\n"
          ]
        }
      ]
    },
    {
      "cell_type": "markdown",
      "metadata": {
        "id": "9hnvGUOEgS2P"
      },
      "source": [
        "# Titanic 6: Model Selection"
      ]
    },
    {
      "cell_type": "markdown",
      "source": [
        "## 1. Preprocessing Pipeline"
      ],
      "metadata": {
        "id": "rHYlIHkUgjOO"
      }
    },
    {
      "cell_type": "code",
      "execution_count": null,
      "metadata": {
        "id": "1OGwzkJWgS2T"
      },
      "outputs": [],
      "source": [
        "import pandas as pd\n",
        "from sklearn.model_selection import train_test_split\n",
        "from sklearn.impute import SimpleImputer\n",
        "from sklearn.tree import DecisionTreeClassifier\n",
        "from sklearn.metrics import accuracy_score\n",
        "from sklearn.pipeline import make_pipeline\n",
        "from sklearn.preprocessing import OneHotEncoder\n",
        "from sklearn.compose import make_column_transformer\n",
        "from sklearn.compose import make_column_selector\n",
        "\n",
        "# reading\n",
        "url = \"https://drive.google.com/file/d/1g3uhw_y3tboRm2eYDPfUzXXsw8IOYDCy/view?usp=sharing\"\n",
        "path = 'https://drive.google.com/uc?export=download&id='+url.split('/')[-2]\n",
        "data = df = pd.read_csv(path)\n",
        "\n",
        "# X and y creation\n",
        "X = data.drop(columns=[\"PassengerId\", \"Name\", \"Ticket\"])\n",
        "y = X.pop(\"Survived\")\n",
        "\n",
        "# Feature Engineering\n",
        "X.loc[:, \"Cabin\"] = X.Cabin.str[0]\n",
        "\n",
        "# data splitting\n",
        "X_train, X_test, y_train, y_test = train_test_split(X, y, test_size=0.2, random_state=123)\n",
        "\n",
        "numeric_pipe = make_pipeline(\n",
        "    SimpleImputer(strategy=\"mean\"))\n",
        " \n",
        "categoric_pipe = make_pipeline(\n",
        "    SimpleImputer(strategy=\"constant\", fill_value=\"N_A\"),\n",
        "    OneHotEncoder(handle_unknown=\"ignore\",sparse_output=False)\n",
        ")\n",
        "\n",
        "preprocessor = make_column_transformer(\n",
        "        (numeric_pipe,make_column_selector(dtype_include='number')),\n",
        "        (categoric_pipe, make_column_selector(dtype_include='object'))\n",
        ")"
      ]
    },
    {
      "cell_type": "markdown",
      "metadata": {
        "id": "6iMK6i7qgS2W"
      },
      "source": [
        "## 2. Modelling (Decision Tree)"
      ]
    },
    {
      "cell_type": "code",
      "execution_count": null,
      "metadata": {
        "colab": {
          "base_uri": "https://localhost:8080/"
        },
        "id": "ii4YcR89gS2X",
        "outputId": "3112acfc-9723-4f02-edec-9265ffe1d377"
      },
      "outputs": [
        {
          "output_type": "stream",
          "name": "stdout",
          "text": [
            "Fitting 5 folds for each of 60 candidates, totalling 300 fits\n"
          ]
        },
        {
          "output_type": "execute_result",
          "data": {
            "text/plain": [
              "{'dtree': 0.8061656653205947}"
            ]
          },
          "metadata": {},
          "execution_count": 8
        }
      ],
      "source": [
        "from sklearn.model_selection import GridSearchCV\n",
        "\n",
        "full_pipeline = make_pipeline(preprocessor, \n",
        "                              DecisionTreeClassifier()).set_output(transform='pandas')\n",
        "\n",
        "param_grid = {\n",
        "    \"columntransformer__pipeline-1__simpleimputer__strategy\":[\"mean\", \"median\"],\n",
        "    \"decisiontreeclassifier__max_depth\": range(2, 14, 2),\n",
        "    \"decisiontreeclassifier__min_samples_leaf\": range(3, 12, 2)\n",
        "}\n",
        "\n",
        "search = GridSearchCV(full_pipeline,\n",
        "                      param_grid,\n",
        "                      cv=5,\n",
        "                      verbose=1)\n",
        "\n",
        "search.fit(X_train, y_train)\n",
        " \n",
        "scores = {\"dtree\" : search.best_score_}\n",
        "\n",
        "scores"
      ]
    },
    {
      "cell_type": "markdown",
      "metadata": {
        "id": "su6ZEvYWgS2Y"
      },
      "source": [
        "## 3. Error analysis"
      ]
    },
    {
      "cell_type": "code",
      "execution_count": null,
      "metadata": {
        "colab": {
          "base_uri": "https://localhost:8080/"
        },
        "id": "TCPO9kphgS2Y",
        "outputId": "2bc7fafe-3060-48d0-87f7-feda6371e473"
      },
      "outputs": [
        {
          "output_type": "execute_result",
          "data": {
            "text/plain": [
              "0.8435754189944135"
            ]
          },
          "metadata": {},
          "execution_count": 9
        }
      ],
      "source": [
        "# test accuracy\n",
        "accuracy_score(search.predict(X_test), y_test)"
      ]
    },
    {
      "cell_type": "code",
      "execution_count": null,
      "metadata": {
        "colab": {
          "base_uri": "https://localhost:8080/",
          "height": 279
        },
        "id": "4U-OmI-ogS2Z",
        "outputId": "5318bb91-8ff2-47dd-80de-9cf30f6fda37"
      },
      "outputs": [
        {
          "output_type": "display_data",
          "data": {
            "text/plain": [
              "<Figure size 432x288 with 2 Axes>"
            ],
            "image/png": "[encoded data removed]"
          },
          "metadata": {
            "needs_background": "light"
          }
        }
      ],
      "source": [
        "#from sklearn.metrics import plot_confusion_matrix\n",
        "#plot_confusion_matrix(search, X_test, y_test, display_labels=['Not Survied', 'Survived']);\n",
        "\n",
        "from sklearn.metrics import ConfusionMatrixDisplay\n",
        "ConfusionMatrixDisplay.from_estimator(search, \n",
        "                                      X_test, \n",
        "                                      y_test, \n",
        "                                      display_labels=['Not Survied', 'Survived']);"
      ]
    },
    {
      "cell_type": "markdown",
      "metadata": {
        "id": "7U4_bhV6gS2Z"
      },
      "source": [
        "### **Exercise 1:** build the same pipeline using a KNN instead of a decision tree.\n",
        "\n",
        "Read the Platform lesson on KNN: https://platform.wbscodingschool.com/courses/data-science/11375/ \n",
        "\n",
        "> **Tip**: Check the SciKit-Learn docummentation to find how to import the KNN model for this task and how to tune its hyperparameters (the names and possible values of the parameters).\n"
      ]
    },
    {
      "cell_type": "code",
      "execution_count": null,
      "metadata": {
        "colab": {
          "base_uri": "https://localhost:8080/"
        },
        "id": "auKdBw_tgS2a",
        "outputId": "cc6df0a0-f6b5-4349-b4b4-2b57d2a3331c"
      },
      "outputs": [
        {
          "output_type": "stream",
          "name": "stdout",
          "text": [
            "Fitting 5 folds for each of 192 candidates, totalling 960 fits\n"
          ]
        },
        {
          "output_type": "execute_result",
          "data": {
            "text/plain": [
              "{'dtree': 0.8061656653205947, 'knn': 0.7373781148429036}"
            ]
          },
          "metadata": {},
          "execution_count": 12
        }
      ],
      "source": [
        "# solution\n",
        "from sklearn.neighbors import KNeighborsClassifier\n",
        "from sklearn.preprocessing import StandardScaler\n",
        "\n",
        "knn_full_pipeline = make_pipeline(preprocessor,\n",
        "                                  KNeighborsClassifier()\n",
        "                                 )\n",
        "from sklearn.model_selection import GridSearchCV\n",
        "\n",
        "param_grid = {\n",
        "    \"columntransformer__pipeline-1__simpleimputer__strategy\":[\"mean\", \"median\"],\n",
        "    \"kneighborsclassifier__n_neighbors\": range(2, 50),\n",
        "    \"kneighborsclassifier__weights\": [\"uniform\", \"distance\"]\n",
        "}\n",
        "\n",
        "knn_search = GridSearchCV(knn_full_pipeline,\n",
        "                      param_grid,\n",
        "                      cv=5,\n",
        "                      verbose=1)\n",
        "\n",
        "knn_search.fit(X_train, y_train)\n",
        "\n",
        "scores[\"knn\"] = knn_search.best_score_\n",
        "\n",
        "scores"
      ]
    },
    {
      "cell_type": "code",
      "execution_count": null,
      "metadata": {
        "colab": {
          "base_uri": "https://localhost:8080/"
        },
        "id": "eXN6OnIPgS2b",
        "outputId": "d836a023-2523-46b5-b14d-29ba1d5a0265"
      },
      "outputs": [
        {
          "output_type": "execute_result",
          "data": {
            "text/plain": [
              "{'columntransformer__pipeline-1__simpleimputer__strategy': 'median',\n",
              " 'kneighborsclassifier__n_neighbors': 32,\n",
              " 'kneighborsclassifier__weights': 'distance'}"
            ]
          },
          "metadata": {},
          "execution_count": 13
        }
      ],
      "source": [
        "knn_search.best_params_"
      ]
    },
    {
      "cell_type": "markdown",
      "source": [
        "### **Exercise 2:** build the same pipeline using other algorithms\n",
        "\n",
        "Go through the Plaform lesson on Model Selection () and check the performance of, at least, the following algorithms: \n",
        "\n",
        "* Logistic Regression\n",
        "* Support Vector Machine\n",
        "* Random Forest"
      ],
      "metadata": {
        "id": "xtLN70Br1Bg1"
      }
    },
    {
      "cell_type": "code",
      "source": [
        "# your code here"
      ],
      "metadata": {
        "id": "1dU1RjlP2rNI"
      },
      "execution_count": null,
      "outputs": []
    },
    {
      "cell_type": "markdown",
      "source": [
        "## **Your challenge**\n",
        "\n",
        "In a new notebook, apply everything you have learned here to the Housing project, following the Learning platform."
      ],
      "metadata": {
        "id": "sgplo8Pdh2l4"
      }
    }
  ],
  "metadata": {
    "kernelspec": {
      "display_name": "Python 3",
      "language": "python",
      "name": "python3"
    },
    "language_info": {
      "codemirror_mode": {
        "name": "ipython",
        "version": 3
      },
      "file_extension": ".py",
      "mimetype": "text/x-python",
      "name": "python",
      "nbconvert_exporter": "python",
      "pygments_lexer": "ipython3",
      "version": "3.8.5"
    },
    "colab": {
      "provenance": []
    }
  },
  "nbformat": 4,
  "nbformat_minor": 0
}